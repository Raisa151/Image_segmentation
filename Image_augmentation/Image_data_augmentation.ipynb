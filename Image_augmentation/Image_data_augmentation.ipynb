{
  "nbformat": 4,
  "nbformat_minor": 0,
  "metadata": {
    "colab": {
      "provenance": []
    },
    "kernelspec": {
      "name": "python3",
      "display_name": "Python 3"
    },
    "language_info": {
      "name": "python"
    }
  },
  "cells": [
    {
      "cell_type": "code",
      "execution_count": 1,
      "metadata": {
        "id": "v6HszPOte9Kx"
      },
      "outputs": [],
      "source": [
        "# import dependencies\n",
        "\n",
        "from keras.preprocessing.image import ImageDataGenerator\n",
        "from skimage import io"
      ]
    },
    {
      "cell_type": "code",
      "source": [
        "# constract an instance\n",
        "\n",
        "datagen = ImageDataGenerator(rotation_range = 45,\n",
        "                             width_shift_range = 0.2,\n",
        "                             height_shift_range = 0.2,\n",
        "                             shear_range = 0.2,\n",
        "                             zoom_range = 0.2,\n",
        "                             fill_mode = 'nearest',\n",
        "                             horizontal_flip = True,\n",
        "                             vertical_flip = False,\n",
        "                             rescale = None) "
      ],
      "metadata": {
        "id": "GOkV7i66C1Up"
      },
      "execution_count": 11,
      "outputs": []
    },
    {
      "cell_type": "code",
      "source": [
        "!unzip /content/primary_images.zip"
      ],
      "metadata": {
        "colab": {
          "base_uri": "https://localhost:8080/"
        },
        "id": "sgrsJrau_gr2",
        "outputId": "009ff604-cb7c-43af-8dd8-e98107094ae0"
      },
      "execution_count": 3,
      "outputs": [
        {
          "output_type": "stream",
          "name": "stdout",
          "text": [
            "Archive:  /content/primary_images.zip\n",
            "   creating: primary_images/gojo/\n",
            "  inflating: primary_images/gojo/8960f70be9305b273bed7feb42e53524.jpg  \n",
            "   creating: primary_images/sukuna/\n",
            "  inflating: primary_images/sukuna/1167538.jpg  \n"
          ]
        }
      ]
    },
    {
      "cell_type": "code",
      "source": [
        "from PIL import Image\n",
        "import numpy as np"
      ],
      "metadata": {
        "id": "TRfYu8UcAd8p"
      },
      "execution_count": 4,
      "outputs": []
    },
    {
      "cell_type": "markdown",
      "source": [
        "For only a single image"
      ],
      "metadata": {
        "id": "z9Xc63Z8x-tl"
      }
    },
    {
      "cell_type": "code",
      "source": [
        "import os\n",
        "  \n",
        "# Directory\n",
        "directory = \"augmented_single\"\n",
        "  \n",
        "# Parent Directory path\n",
        "parent_dir = \"/content\"\n",
        "  \n",
        "# Path\n",
        "path = os.path.join(parent_dir, directory)\n",
        "\n",
        "# make directory\n",
        "os.mkdir(path)"
      ],
      "metadata": {
        "id": "cYAnsd7cCH-B"
      },
      "execution_count": 5,
      "outputs": []
    },
    {
      "cell_type": "code",
      "source": [
        "# single image\n",
        "\n",
        "# read image\n",
        "x = io.imread('/content/primary_images/gojo/8960f70be9305b273bed7feb42e53524.jpg')\n",
        "\n",
        "# resize the image\n",
        "x = Image.fromarray(x, 'RGB')\n",
        "x = x.resize((128,128))\n",
        "x = np.array(x)\n",
        "x = x.reshape((1, ) + x.shape)\n",
        "\n",
        "# apply data generator\n",
        "i = 0\n",
        "for batch in datagen.flow(x, batch_size = 16, save_to_dir = 'augmented_single', save_prefix = 'aug', save_format = 'png'):\n",
        "  i = i+1\n",
        "  if i>20:\n",
        "    break"
      ],
      "metadata": {
        "id": "I3BV3YJfC6Cw"
      },
      "execution_count": 7,
      "outputs": []
    },
    {
      "cell_type": "code",
      "source": [
        "print(x.shape)"
      ],
      "metadata": {
        "colab": {
          "base_uri": "https://localhost:8080/"
        },
        "id": "f-q6Tfg-_tLs",
        "outputId": "cc762100-2438-46d6-b5bb-f1e3ea0cc753"
      },
      "execution_count": 16,
      "outputs": [
        {
          "output_type": "stream",
          "name": "stdout",
          "text": [
            "(1, 128, 128, 3)\n"
          ]
        }
      ]
    },
    {
      "cell_type": "markdown",
      "source": [
        "Multiple images that belong to multiple classes (different folder)"
      ],
      "metadata": {
        "id": "Oh4DR2ZhyHN-"
      }
    },
    {
      "cell_type": "code",
      "source": [
        "# Directory\n",
        "directory = \"augmented_multi_class\"\n",
        "  \n",
        "# Parent Directory path\n",
        "parent_dir = \"/content\"\n",
        "  \n",
        "# Path\n",
        "path = os.path.join(parent_dir, directory)\n",
        "\n",
        "# make directory\n",
        "os.mkdir(path)"
      ],
      "metadata": {
        "id": "C3NboLzgq24t"
      },
      "execution_count": 8,
      "outputs": []
    },
    {
      "cell_type": "code",
      "source": [
        "# for multiple multi-class image\n",
        "\n",
        "i = 0\n",
        "for batch in datagen.flow_from_directory(directory = '/content/primary_images',\n",
        "                                         target_size = (128,182),\n",
        "                                         color_mode = 'rgb',\n",
        "                                         batch_size = 16,\n",
        "                                         save_to_dir = 'augmented_multi',\n",
        "                                         save_prefix = 'aug',\n",
        "                                         save_format = 'png',\n",
        "                                         ):\n",
        "  i = i+1\n",
        "  if i>20:\n",
        "    break"
      ],
      "metadata": {
        "colab": {
          "base_uri": "https://localhost:8080/"
        },
        "id": "njGyCZCqqkG6",
        "outputId": "34c9d270-b70d-40c1-b641-d8316991b429"
      },
      "execution_count": 12,
      "outputs": [
        {
          "output_type": "stream",
          "name": "stdout",
          "text": [
            "Found 2 images belonging to 2 classes.\n"
          ]
        }
      ]
    },
    {
      "cell_type": "markdown",
      "source": [
        "Multiple images belong to same class (folder)"
      ],
      "metadata": {
        "id": "UDiNZyi7yRbT"
      }
    },
    {
      "cell_type": "code",
      "source": [
        "# if images are in same class\n",
        "\n",
        "# Directory\n",
        "directory = \"augmented_same_class\"\n",
        "  \n",
        "# Parent Directory path\n",
        "parent_dir = \"/content\"\n",
        "  \n",
        "# Path\n",
        "path = os.path.join(parent_dir, directory)\n",
        "\n",
        "# make directory\n",
        "os.mkdir(path)"
      ],
      "metadata": {
        "id": "LcsNOVW2uF2w"
      },
      "execution_count": 13,
      "outputs": []
    },
    {
      "cell_type": "code",
      "source": [
        "!unzip /content/same_class_image.zip"
      ],
      "metadata": {
        "colab": {
          "base_uri": "https://localhost:8080/"
        },
        "id": "TY5g_Z9yu3Kg",
        "outputId": "76e0f1d1-847c-458b-e3f6-7cc92500d985"
      },
      "execution_count": 14,
      "outputs": [
        {
          "output_type": "stream",
          "name": "stdout",
          "text": [
            "Archive:  /content/same_class_image.zip\n",
            "  inflating: same_class_image/1149849.jpg  \n",
            "  inflating: same_class_image/688011.jpg  \n"
          ]
        }
      ]
    },
    {
      "cell_type": "code",
      "source": [
        "main_path = '/content/same_class_image/'\n",
        "images = os.listdir(main_path)\n",
        "\n",
        "for image in enumerate(images):\n",
        "  print(image)"
      ],
      "metadata": {
        "colab": {
          "base_uri": "https://localhost:8080/"
        },
        "id": "w2leNA0KvFkh",
        "outputId": "4942217e-931c-4bf2-a903-9c605782f278"
      },
      "execution_count": 23,
      "outputs": [
        {
          "output_type": "stream",
          "name": "stdout",
          "text": [
            "(0, '1149849.jpg')\n",
            "(1, '688011.jpg')\n"
          ]
        }
      ]
    },
    {
      "cell_type": "code",
      "source": [
        "# read the original images\n",
        "\n",
        "dataset = []\n",
        "main_path = '/content/same_class_image/'\n",
        "images = os.listdir(main_path)\n",
        "\n",
        "for image in images:\n",
        "  image = io.imread(main_path + image)\n",
        "  image = Image.fromarray(image,'RGB')\n",
        "  image = image.resize((128,128))\n",
        "  image = np.array(image)\n",
        "  dataset.append(image)\n",
        "\n",
        "x = np.array(dataset)"
      ],
      "metadata": {
        "id": "SYJxZKNbu8Qw"
      },
      "execution_count": 24,
      "outputs": []
    },
    {
      "cell_type": "code",
      "source": [
        "print(x.shape)"
      ],
      "metadata": {
        "colab": {
          "base_uri": "https://localhost:8080/"
        },
        "id": "SIKSoHGixkHt",
        "outputId": "43f94b79-256c-406f-a619-b75ca0dcf5bc"
      },
      "execution_count": 25,
      "outputs": [
        {
          "output_type": "stream",
          "name": "stdout",
          "text": [
            "(2, 128, 128, 3)\n"
          ]
        }
      ]
    },
    {
      "cell_type": "code",
      "source": [
        "# apply data generator\n",
        "i = 0\n",
        "for batch in datagen.flow(x, batch_size = 16, save_to_dir = 'augmented_same_class', save_prefix = 'aug', save_format = 'png'):\n",
        "  i = i+1\n",
        "  if i>20:\n",
        "    break"
      ],
      "metadata": {
        "id": "f1wIe9UgxoHu"
      },
      "execution_count": 26,
      "outputs": []
    }
  ]
}