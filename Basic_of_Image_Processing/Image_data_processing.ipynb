{
  "nbformat": 4,
  "nbformat_minor": 0,
  "metadata": {
    "colab": {
      "provenance": []
    },
    "kernelspec": {
      "name": "python3",
      "display_name": "Python 3"
    },
    "language_info": {
      "name": "python"
    }
  },
  "cells": [
    {
      "cell_type": "markdown",
      "source": [
        "Pillow\n",
        "\n",
        "\n",
        "*   read data\n",
        "*   resize data\n",
        "*   RGB to Grayscale\n",
        "*   Show the data\n",
        "*   save data\n",
        "\n",
        "\n",
        "\n"
      ],
      "metadata": {
        "id": "47yfQJ6xvwZb"
      }
    },
    {
      "cell_type": "code",
      "execution_count": 5,
      "metadata": {
        "id": "LvDh652WR32D"
      },
      "outputs": [],
      "source": [
        "from PIL import Image\n",
        "import numpy as np"
      ]
    },
    {
      "cell_type": "code",
      "source": [
        "# open image\n",
        "img = Image.open('/content/gojo.jpg')"
      ],
      "metadata": {
        "id": "XqVL5DOLwSk2"
      },
      "execution_count": 2,
      "outputs": []
    },
    {
      "cell_type": "code",
      "source": [
        "# convert to np array\n",
        "arr = np.asarray(img)"
      ],
      "metadata": {
        "id": "qA9jLRJ4wplN"
      },
      "execution_count": 6,
      "outputs": []
    },
    {
      "cell_type": "code",
      "source": [
        "print(arr.shape)"
      ],
      "metadata": {
        "colab": {
          "base_uri": "https://localhost:8080/"
        },
        "id": "jHQtOCVhxu9n",
        "outputId": "05c153ce-159b-47b7-d73f-0049cfb2c357"
      },
      "execution_count": 8,
      "outputs": [
        {
          "output_type": "stream",
          "name": "stdout",
          "text": [
            "(1002, 564, 3)\n"
          ]
        }
      ]
    },
    {
      "cell_type": "code",
      "source": [
        "# resize the data\n",
        "im_resized = img.resize((720, 480))"
      ],
      "metadata": {
        "id": "lO3aDDAkzZaU"
      },
      "execution_count": 9,
      "outputs": []
    },
    {
      "cell_type": "code",
      "source": [
        "im_resized"
      ],
      "metadata": {
        "id": "Z_V-Le2a0igF"
      },
      "execution_count": null,
      "outputs": []
    },
    {
      "cell_type": "code",
      "source": [
        "# save the image\n",
        "im_resized.save('resized_gojo.jpg')"
      ],
      "metadata": {
        "id": "j_cdqE30z_VF"
      },
      "execution_count": 11,
      "outputs": []
    },
    {
      "cell_type": "code",
      "source": [
        "# rgb to grayscale\n",
        "\n",
        "from PIL import ImageOps\n",
        " \n",
        "# applying grayscale method\n",
        "im_gray = ImageOps.grayscale(img)\n",
        " \n",
        "im_gray"
      ],
      "metadata": {
        "id": "gYGiHf5q1JLG"
      },
      "execution_count": null,
      "outputs": []
    },
    {
      "cell_type": "code",
      "source": [
        "# save the image\n",
        "im_gray.save('gray_gojo.jpg')"
      ],
      "metadata": {
        "id": "zvyG3pt52Ilc"
      },
      "execution_count": 18,
      "outputs": []
    },
    {
      "cell_type": "markdown",
      "source": [
        "Open CV\n",
        "\n",
        "*   read data\n",
        "*   resize data\n",
        "*   RGB to Grayscale\n",
        "*   Show the data\n",
        "*   save data"
      ],
      "metadata": {
        "id": "sNhnIpTF2O0O"
      }
    },
    {
      "cell_type": "code",
      "source": [
        "import cv2"
      ],
      "metadata": {
        "id": "7a2JdJSk2oem"
      },
      "execution_count": 19,
      "outputs": []
    },
    {
      "cell_type": "code",
      "source": [
        "# read the data\n",
        "im = cv2.imread('/content/gojo.jpg')"
      ],
      "metadata": {
        "id": "QMXQdBFV3epV"
      },
      "execution_count": 21,
      "outputs": []
    },
    {
      "cell_type": "code",
      "source": [
        "type(im)"
      ],
      "metadata": {
        "colab": {
          "base_uri": "https://localhost:8080/"
        },
        "id": "kO3mZzzX3qry",
        "outputId": "a16c79f6-62db-4ffd-aa23-083ae89b60c4"
      },
      "execution_count": 22,
      "outputs": [
        {
          "output_type": "execute_result",
          "data": {
            "text/plain": [
              "numpy.ndarray"
            ]
          },
          "metadata": {},
          "execution_count": 22
        }
      ]
    },
    {
      "cell_type": "code",
      "source": [
        "im.shape"
      ],
      "metadata": {
        "colab": {
          "base_uri": "https://localhost:8080/"
        },
        "id": "WnPcKFcx3uYr",
        "outputId": "fa609e42-937f-471e-90c3-1ff1b213770d"
      },
      "execution_count": 23,
      "outputs": [
        {
          "output_type": "execute_result",
          "data": {
            "text/plain": [
              "(1002, 564, 3)"
            ]
          },
          "metadata": {},
          "execution_count": 23
        }
      ]
    },
    {
      "cell_type": "code",
      "source": [
        "# resize the data\n",
        "\n",
        "im_resized = cv2.resize(im, [720,720])"
      ],
      "metadata": {
        "id": "vRPBapdz31qr"
      },
      "execution_count": 27,
      "outputs": []
    },
    {
      "cell_type": "code",
      "source": [
        "im_resized.shape"
      ],
      "metadata": {
        "colab": {
          "base_uri": "https://localhost:8080/"
        },
        "id": "9BKpFm3o4oIq",
        "outputId": "48d2585c-dd45-4429-fb60-a59cd8788b85"
      },
      "execution_count": 28,
      "outputs": [
        {
          "output_type": "execute_result",
          "data": {
            "text/plain": [
              "(720, 720, 3)"
            ]
          },
          "metadata": {},
          "execution_count": 28
        }
      ]
    },
    {
      "cell_type": "code",
      "source": [
        "# rgb to grayscale\n",
        "img_gray = cv2.cvtColor(im, cv2.COLOR_BGR2GRAY)"
      ],
      "metadata": {
        "id": "qCeUYLtE47Ga"
      },
      "execution_count": 29,
      "outputs": []
    },
    {
      "cell_type": "code",
      "source": [
        "# display the image\n",
        "from google.colab.patches import cv2_imshow\n",
        "cv2_imshow(img_gray)"
      ],
      "metadata": {
        "id": "S4IWB5oh5bUn"
      },
      "execution_count": null,
      "outputs": []
    },
    {
      "cell_type": "code",
      "source": [
        "# save the image\n",
        "cv2.imwrite('gray_gojo_again.jpg', img_gray)"
      ],
      "metadata": {
        "colab": {
          "base_uri": "https://localhost:8080/"
        },
        "id": "I1AXhZ0Q5pm-",
        "outputId": "217c5ec0-09e0-48c4-c6e3-5c4c27d95fb2"
      },
      "execution_count": 31,
      "outputs": [
        {
          "output_type": "execute_result",
          "data": {
            "text/plain": [
              "True"
            ]
          },
          "metadata": {},
          "execution_count": 31
        }
      ]
    }
  ]
}