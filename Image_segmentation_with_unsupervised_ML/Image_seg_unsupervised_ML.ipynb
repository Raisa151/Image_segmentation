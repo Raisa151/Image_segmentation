{
  "nbformat": 4,
  "nbformat_minor": 0,
  "metadata": {
    "colab": {
      "provenance": []
    },
    "kernelspec": {
      "name": "python3",
      "display_name": "Python 3"
    },
    "language_info": {
      "name": "python"
    }
  },
  "cells": [
    {
      "cell_type": "code",
      "execution_count": 33,
      "metadata": {
        "id": "aRz65WCOTFOk"
      },
      "outputs": [],
      "source": [
        "# import dependencies\n",
        "\n",
        "import numpy as np \n",
        "import cv2"
      ]
    },
    {
      "cell_type": "code",
      "source": [
        "# upload image file\n",
        "\n",
        "from google.colab import files\n",
        "files.upload()"
      ],
      "metadata": {
        "id": "g3gs8P6FkpDO"
      },
      "execution_count": null,
      "outputs": []
    },
    {
      "cell_type": "code",
      "source": [
        "# read image file\n",
        "\n",
        "img = cv2.imread('/content/org_image.png')"
      ],
      "metadata": {
        "id": "VKQubTabkzyt"
      },
      "execution_count": 35,
      "outputs": []
    },
    {
      "cell_type": "code",
      "source": [
        "# check the shape\n",
        "\n",
        "img.shape"
      ],
      "metadata": {
        "colab": {
          "base_uri": "https://localhost:8080/"
        },
        "id": "pdlIELpzlJvZ",
        "outputId": "77b1f6d0-68c8-410f-d56d-bddbc7f18bdd"
      },
      "execution_count": 36,
      "outputs": [
        {
          "output_type": "execute_result",
          "data": {
            "text/plain": [
              "(599, 458, 3)"
            ]
          },
          "metadata": {},
          "execution_count": 36
        }
      ]
    },
    {
      "cell_type": "code",
      "source": [
        "# reshape the image\n",
        "\n",
        "img2 = img.reshape((-1,3))"
      ],
      "metadata": {
        "id": "cU_sW6qylTfk"
      },
      "execution_count": 37,
      "outputs": []
    },
    {
      "cell_type": "code",
      "source": [
        "img2.shape"
      ],
      "metadata": {
        "colab": {
          "base_uri": "https://localhost:8080/"
        },
        "id": "9rYPmz_PlfY8",
        "outputId": "5e9cbbbf-d7e4-4487-a2ba-f7eded96b71f"
      },
      "execution_count": 38,
      "outputs": [
        {
          "output_type": "execute_result",
          "data": {
            "text/plain": [
              "(274342, 3)"
            ]
          },
          "metadata": {},
          "execution_count": 38
        }
      ]
    },
    {
      "cell_type": "markdown",
      "source": [
        "## k-means clustering"
      ],
      "metadata": {
        "id": "6lODyBHjqDH1"
      }
    },
    {
      "cell_type": "code",
      "source": [
        "# documentation link : https://docs.opencv.org/3.4/d1/d5c/tutorial_py_kmeans_opencv.html\n",
        "# change the data type\n",
        "\n",
        "X = np.float32(img2)"
      ],
      "metadata": {
        "id": "vbbBzxvMljXl"
      },
      "execution_count": 39,
      "outputs": []
    },
    {
      "cell_type": "code",
      "source": [
        "# define criteria\n",
        "criteria = (cv2.TERM_CRITERIA_EPS + cv2.TERM_CRITERIA_MAX_ITER, 10, 1.0)\n",
        "\n",
        "# number of clusters (k)\n",
        "k = 6\n",
        "\n",
        "# apply kmeans()\n",
        "ret,label,center = cv2.kmeans(X,k,None,criteria,10,cv2.KMEANS_RANDOM_CENTERS) # attempts = 10 "
      ],
      "metadata": {
        "id": "H_RX6Xq1nBf0"
      },
      "execution_count": 40,
      "outputs": []
    },
    {
      "cell_type": "code",
      "source": [
        "# convert back into uint8, and make original image\n",
        "\n",
        "center = np.uint8(center)\n",
        "reconstracted_img = center[label.flatten()]\n",
        "reconstracted_img_2 = reconstracted_img.reshape((img.shape))"
      ],
      "metadata": {
        "id": "Uj9Q5Y4WnqPF"
      },
      "execution_count": 41,
      "outputs": []
    },
    {
      "cell_type": "code",
      "source": [
        "from google.colab.patches import cv2_imshow\n",
        "\n",
        "cv2_imshow(reconstracted_img_2)"
      ],
      "metadata": {
        "colab": {
          "base_uri": "https://localhost:8080/",
          "height": 616
        },
        "id": "31woTeFXn4U1",
        "outputId": "b47cdf82-8908-4223-b584-8e615620d1ca"
      },
      "execution_count": 42,
      "outputs": [
        {
          "output_type": "display_data",
          "data": {
            "text/plain": [
              "<PIL.Image.Image image mode=RGB size=458x599 at 0x7F57D421A490>"
            ],
            "image/png": "[encoded data removed]"
          },
          "metadata": {}
        }
      ]
    },
    {
      "cell_type": "code",
      "source": [
        "cv2.imwrite(\"segmented_k_mean.jpg\", reconstracted_img_2)"
      ],
      "metadata": {
        "colab": {
          "base_uri": "https://localhost:8080/"
        },
        "id": "jwtB6AZfpmd4",
        "outputId": "164747f6-6cbc-4cf2-cb15-7d8a4ad57c68"
      },
      "execution_count": 43,
      "outputs": [
        {
          "output_type": "execute_result",
          "data": {
            "text/plain": [
              "True"
            ]
          },
          "metadata": {},
          "execution_count": 43
        }
      ]
    },
    {
      "cell_type": "code",
      "source": [
        "print(center)"
      ],
      "metadata": {
        "colab": {
          "base_uri": "https://localhost:8080/"
        },
        "id": "2H4UI8zzpbn9",
        "outputId": "9eaa48fc-6f3f-4b1d-a090-4c1ce899d659"
      },
      "execution_count": 44,
      "outputs": [
        {
          "output_type": "stream",
          "name": "stdout",
          "text": [
            "[[ 88 106 173]\n",
            " [168 152  98]\n",
            " [ 81  67  44]\n",
            " [ 56 129 182]\n",
            " [ 64  59  27]\n",
            " [178 192 219]]\n"
          ]
        }
      ]
    },
    {
      "cell_type": "markdown",
      "source": [
        "## Gaussian Mixture Model (GMM)"
      ],
      "metadata": {
        "id": "x-KB7dzKxgAD"
      }
    },
    {
      "cell_type": "code",
      "source": [
        "# import dependencies\n",
        "\n",
        "from sklearn.mixture import GaussianMixture as GMM"
      ],
      "metadata": {
        "id": "myI0LFccxv5O"
      },
      "execution_count": 45,
      "outputs": []
    },
    {
      "cell_type": "code",
      "source": [
        "# define an instance and fit the model\n",
        "\n",
        "gmm_model = GMM(n_components = 6, covariance_type = 'tied').fit(img2)"
      ],
      "metadata": {
        "id": "OkjpU8Ftx_pK"
      },
      "execution_count": 46,
      "outputs": []
    },
    {
      "cell_type": "code",
      "source": [
        "# make prediction\n",
        "\n",
        "prediction = gmm_model.predict(img2)"
      ],
      "metadata": {
        "id": "rQTZk4SPyjq5"
      },
      "execution_count": 47,
      "outputs": []
    },
    {
      "cell_type": "code",
      "source": [
        "prediction[:100]"
      ],
      "metadata": {
        "colab": {
          "base_uri": "https://localhost:8080/"
        },
        "id": "xY4qr_LQ0HGw",
        "outputId": "4f459365-e751-424c-f5f2-dc7fe2985cc1"
      },
      "execution_count": 48,
      "outputs": [
        {
          "output_type": "execute_result",
          "data": {
            "text/plain": [
              "array([2, 2, 2, 2, 2, 2, 2, 2, 2, 2, 2, 2, 2, 2, 2, 2, 2, 2, 2, 2, 2, 2,\n",
              "       2, 2, 2, 2, 2, 2, 2, 2, 2, 2, 2, 2, 2, 2, 2, 2, 2, 2, 2, 2, 2, 2,\n",
              "       2, 2, 2, 2, 2, 2, 2, 2, 2, 2, 2, 2, 2, 2, 2, 2, 2, 2, 2, 2, 2, 2,\n",
              "       2, 2, 2, 2, 2, 2, 2, 2, 2, 2, 2, 2, 2, 2, 2, 2, 2, 2, 2, 2, 2, 2,\n",
              "       2, 2, 2, 2, 2, 2, 2, 2, 2, 2, 2, 2])"
            ]
          },
          "metadata": {},
          "execution_count": 48
        }
      ]
    },
    {
      "cell_type": "code",
      "source": [
        "# reconstract the image\n",
        "prediction_ = prediction*12  # to make the image visible\n",
        "reconstracted_img_gmm = prediction_.reshape(img.shape[0], img.shape[1])"
      ],
      "metadata": {
        "id": "Yf9zg5A4zxfc"
      },
      "execution_count": 49,
      "outputs": []
    },
    {
      "cell_type": "code",
      "source": [
        "# save new file\n",
        "cv2.imwrite(\"segmented_k_gmm.jpg\", reconstracted_img_gmm)"
      ],
      "metadata": {
        "colab": {
          "base_uri": "https://localhost:8080/"
        },
        "id": "wZDVhatI05ED",
        "outputId": "910612cb-80f1-40a9-b1de-c6caa6cee803"
      },
      "execution_count": 50,
      "outputs": [
        {
          "output_type": "execute_result",
          "data": {
            "text/plain": [
              "True"
            ]
          },
          "metadata": {},
          "execution_count": 50
        }
      ]
    },
    {
      "cell_type": "code",
      "source": [
        "from google.colab.patches import cv2_imshow\n",
        "\n",
        "cv2_imshow(reconstracted_img_gmm)"
      ],
      "metadata": {
        "colab": {
          "base_uri": "https://localhost:8080/",
          "height": 616
        },
        "id": "DPTR2gC75_1N",
        "outputId": "a5b75458-34ee-4fa8-9e6d-76fa7902b7a2"
      },
      "execution_count": 51,
      "outputs": [
        {
          "output_type": "display_data",
          "data": {
            "text/plain": [
              "<PIL.Image.Image image mode=L size=458x599 at 0x7F57D421AEE0>"
            ],
            "image/png": "[encoded data removed]"
          },
          "metadata": {}
        }
      ]
    },
    {
      "cell_type": "markdown",
      "source": [
        "## Pick optimal number with BIC/AIC"
      ],
      "metadata": {
        "id": "Rm-I9rfV6a9G"
      }
    },
    {
      "cell_type": "code",
      "source": [
        "# calculate BIC for GMM model\n",
        "\n",
        "n = 2\n",
        "gmm_model = GMM(n, covariance_type='tied').fit(img2)\n",
        "\n",
        "bic_values = gmm_model.bic(img2)\n",
        "print(bic_values)"
      ],
      "metadata": {
        "colab": {
          "base_uri": "https://localhost:8080/"
        },
        "id": "B6V0IJ2d6hzx",
        "outputId": "feeedabc-febd-44ee-f55f-19cb999d3d1a"
      },
      "execution_count": 52,
      "outputs": [
        {
          "output_type": "stream",
          "name": "stdout",
          "text": [
            "7223393.509782243\n"
          ]
        }
      ]
    },
    {
      "cell_type": "code",
      "source": [
        "# iterate value of n from 1 to 15\n",
        "\n",
        "n_components = np.arange(1,15)\n",
        "\n",
        "gmm_models = [GMM(n, covariance_type='tied').fit(img2) for n in n_components]"
      ],
      "metadata": {
        "id": "9t8epo7a7G1Q"
      },
      "execution_count": 53,
      "outputs": []
    },
    {
      "cell_type": "code",
      "source": [
        "# plot BIC value for every value of n\n",
        "\n",
        "from matplotlib import pyplot as plt\n",
        "plt.plot(n_components, [m.bic(img2) for m in gmm_models], label='BIC')\n",
        "plt.xlabel('n_components')\n",
        "plt.ylabel('BIC_values')"
      ],
      "metadata": {
        "colab": {
          "base_uri": "https://localhost:8080/",
          "height": 308
        },
        "id": "X7IoDOAl7Zyi",
        "outputId": "3c961253-1c98-4f48-9dcc-edfe6284afff"
      },
      "execution_count": 54,
      "outputs": [
        {
          "output_type": "execute_result",
          "data": {
            "text/plain": [
              "Text(0, 0.5, 'BIC_values')"
            ]
          },
          "metadata": {},
          "execution_count": 54
        },
        {
          "output_type": "display_data",
          "data": {
            "text/plain": [
              "<Figure size 432x288 with 1 Axes>"
            ],
            "image/png": "[encoded data removed]"
          },
          "metadata": {
            "needs_background": "light"
          }
        }
      ]
    },
    {
      "cell_type": "markdown",
      "source": [
        "after n=6 the graph is almost asymptotic. so n= 6 is the correct value."
      ],
      "metadata": {
        "id": "tD-av2f68LC3"
      }
    },
    {
      "cell_type": "code",
      "source": [
        "# plot AIC\n",
        "\n",
        "plt.plot(n_components, [m.aic(img2) for m in gmm_models], label='AIC')\n",
        "plt.xlabel('n_components')\n",
        "plt.ylabel('AIC_values')"
      ],
      "metadata": {
        "colab": {
          "base_uri": "https://localhost:8080/",
          "height": 308
        },
        "id": "szCCnFLA9PNJ",
        "outputId": "7c4501a6-2ef4-4659-fda6-89469dc4a3db"
      },
      "execution_count": 55,
      "outputs": [
        {
          "output_type": "execute_result",
          "data": {
            "text/plain": [
              "Text(0, 0.5, 'AIC_values')"
            ]
          },
          "metadata": {},
          "execution_count": 55
        },
        {
          "output_type": "display_data",
          "data": {
            "text/plain": [
              "<Figure size 432x288 with 1 Axes>"
            ],
            "image/png": "[encoded data removed]"
          },
          "metadata": {
            "needs_background": "light"
          }
        }
      ]
    },
    {
      "cell_type": "markdown",
      "source": [
        "## Image Segmentation with Histogram"
      ],
      "metadata": {
        "id": "Cae9HySVuTQJ"
      }
    },
    {
      "cell_type": "markdown",
      "source": [
        "Try two different ways."
      ],
      "metadata": {
        "id": "SKzHuAbQ5yl7"
      }
    },
    {
      "cell_type": "code",
      "source": [
        "# with matplotlib\n",
        "# import library\n",
        "import matplotlib.pyplot as plt\n",
        "\n",
        "# read image\n",
        "img = plt.imread('/content/org_image.png')\n",
        "\n",
        "#calculating histogram\n",
        "plt.hist(img.ravel(), bins=256, range=(0.0, 1.0), fc='k', ec='k')"
      ],
      "metadata": {
        "colab": {
          "base_uri": "https://localhost:8080/",
          "height": 1000
        },
        "id": "nsSrKpVPuVvo",
        "outputId": "a26ab3e9-f3b3-4738-d32d-0d2c4b53324b"
      },
      "execution_count": 56,
      "outputs": [
        {
          "output_type": "execute_result",
          "data": {
            "text/plain": [
              "(array([0.00000e+00, 0.00000e+00, 0.00000e+00, 0.00000e+00, 0.00000e+00,\n",
              "        0.00000e+00, 0.00000e+00, 1.00000e+00, 2.00000e+00, 1.00000e+00,\n",
              "        3.00000e+00, 3.00000e+00, 2.00000e+00, 7.00000e+00, 4.00000e+00,\n",
              "        1.50000e+01, 1.30000e+01, 1.90000e+01, 2.70000e+01, 3.10000e+01,\n",
              "        4.00000e+01, 7.50000e+01, 7.80000e+01, 2.33000e+02, 1.47000e+02,\n",
              "        3.34100e+03, 1.12900e+04, 3.08800e+03, 3.79600e+03, 1.49700e+03,\n",
              "        6.54000e+02, 4.05000e+02, 3.38000e+02, 1.26000e+02, 2.67000e+02,\n",
              "        2.54000e+02, 2.52000e+02, 1.51000e+02, 1.64000e+02, 2.85000e+02,\n",
              "        3.61000e+02, 1.34600e+03, 1.53900e+03, 3.40000e+04, 1.25560e+04,\n",
              "        5.79900e+03, 2.91600e+03, 2.27000e+02, 1.78900e+03, 1.34000e+03,\n",
              "        1.16800e+03, 1.46400e+03, 4.50300e+03, 1.53700e+03, 1.04310e+04,\n",
              "        4.19300e+03, 1.93500e+04, 7.09300e+03, 8.92400e+03, 5.97400e+03,\n",
              "        1.40630e+04, 3.58300e+03, 1.79600e+03, 5.71100e+03, 1.64960e+04,\n",
              "        4.07900e+03, 3.55560e+04, 1.42260e+04, 6.90300e+03, 3.71500e+03,\n",
              "        2.15400e+03, 1.52400e+03, 5.31000e+02, 1.14600e+03, 6.93000e+02,\n",
              "        6.24000e+02, 6.10000e+02, 5.37000e+02, 8.10000e+02, 1.08100e+03,\n",
              "        2.25400e+03, 3.42880e+04, 1.22270e+04, 5.77500e+03, 3.10500e+03,\n",
              "        2.20600e+03, 9.47000e+02, 3.87200e+03, 6.72100e+03, 1.67300e+03,\n",
              "        6.45000e+02, 7.69000e+02, 6.22000e+02, 4.35000e+02, 9.41000e+02,\n",
              "        1.68700e+03, 5.52600e+03, 1.95660e+04, 8.52000e+02, 1.72410e+04,\n",
              "        5.48500e+03, 2.55900e+03, 1.53800e+03, 1.53600e+03, 2.97100e+03,\n",
              "        1.76100e+03, 6.09900e+03, 1.33400e+03, 7.02000e+02, 4.20000e+02,\n",
              "        2.99000e+02, 1.99000e+02, 1.24000e+02, 1.92000e+02, 1.01000e+02,\n",
              "        1.07000e+02, 9.00000e+01, 9.40000e+01, 7.70000e+01, 7.80000e+01,\n",
              "        9.90000e+01, 8.20000e+01, 1.12000e+02, 1.66000e+02, 2.96000e+02,\n",
              "        3.65000e+02, 1.08400e+03, 2.50700e+03, 1.92220e+04, 1.00500e+04,\n",
              "        7.55900e+03, 5.95100e+03, 3.11200e+03, 2.47300e+03, 1.51500e+03,\n",
              "        1.22700e+03, 5.29000e+02, 7.32000e+02, 5.71000e+02, 3.68000e+02,\n",
              "        4.19000e+02, 3.31000e+02, 2.92000e+02, 2.49000e+02, 2.42000e+02,\n",
              "        2.76000e+02, 3.32000e+02, 3.87000e+02, 7.61000e+02, 6.02000e+02,\n",
              "        2.12400e+03, 6.19000e+03, 1.95130e+04, 1.72130e+04, 5.00100e+03,\n",
              "        2.42900e+03, 1.41000e+03, 4.14000e+02, 9.15000e+02, 6.66000e+02,\n",
              "        5.85000e+02, 5.73000e+02, 6.32000e+02, 6.58000e+02, 1.26300e+03,\n",
              "        1.67800e+03, 6.18100e+03, 8.98000e+02, 1.97300e+04, 1.67790e+04,\n",
              "        5.29400e+03, 2.51400e+03, 1.82900e+03, 2.42000e+03, 1.82900e+03,\n",
              "        4.01100e+03, 5.98300e+03, 8.54900e+03, 1.55490e+04, 1.88380e+04,\n",
              "        9.44800e+03, 1.08310e+04, 6.65300e+03, 2.05330e+04, 7.29300e+03,\n",
              "        3.05100e+03, 2.91600e+03, 2.13200e+03, 1.65200e+03, 2.03800e+03,\n",
              "        5.40500e+03, 1.36430e+04, 1.64430e+04, 2.05400e+03, 5.27200e+03,\n",
              "        3.00200e+03, 2.22900e+03, 7.84000e+02, 1.38100e+03, 9.53000e+02,\n",
              "        5.31000e+02, 5.66000e+02, 3.73000e+02, 3.66000e+02, 2.71000e+02,\n",
              "        1.56000e+02, 1.58000e+02, 1.01000e+02, 1.21000e+02, 1.13000e+02,\n",
              "        8.60000e+01, 1.32000e+02, 1.84000e+02, 1.97000e+02, 3.40000e+02,\n",
              "        5.20000e+02, 1.40100e+03, 5.03000e+02, 5.03000e+03, 1.33280e+04,\n",
              "        1.66030e+04, 4.99700e+03, 2.86100e+03, 2.01800e+03, 1.43000e+02,\n",
              "        1.35400e+03, 8.98000e+02, 6.51000e+02, 5.19000e+02, 3.64000e+02,\n",
              "        2.92000e+02, 3.40000e+01, 1.74000e+02, 1.20000e+02, 5.60000e+01,\n",
              "        4.00000e+01, 2.40000e+01, 1.00000e+01, 1.50000e+01, 1.00000e+00,\n",
              "        2.00000e+00, 3.00000e+00, 0.00000e+00, 2.00000e+00, 0.00000e+00,\n",
              "        1.00000e+00, 0.00000e+00, 0.00000e+00, 0.00000e+00, 0.00000e+00,\n",
              "        0.00000e+00, 0.00000e+00, 0.00000e+00, 0.00000e+00, 0.00000e+00,\n",
              "        2.74342e+05]),\n",
              " array([0.        , 0.00390625, 0.0078125 , 0.01171875, 0.015625  ,\n",
              "        0.01953125, 0.0234375 , 0.02734375, 0.03125   , 0.03515625,\n",
              "        0.0390625 , 0.04296875, 0.046875  , 0.05078125, 0.0546875 ,\n",
              "        0.05859375, 0.0625    , 0.06640625, 0.0703125 , 0.07421875,\n",
              "        0.078125  , 0.08203125, 0.0859375 , 0.08984375, 0.09375   ,\n",
              "        0.09765625, 0.1015625 , 0.10546875, 0.109375  , 0.11328125,\n",
              "        0.1171875 , 0.12109375, 0.125     , 0.12890625, 0.1328125 ,\n",
              "        0.13671875, 0.140625  , 0.14453125, 0.1484375 , 0.15234375,\n",
              "        0.15625   , 0.16015625, 0.1640625 , 0.16796875, 0.171875  ,\n",
              "        0.17578125, 0.1796875 , 0.18359375, 0.1875    , 0.19140625,\n",
              "        0.1953125 , 0.19921875, 0.203125  , 0.20703125, 0.2109375 ,\n",
              "        0.21484375, 0.21875   , 0.22265625, 0.2265625 , 0.23046875,\n",
              "        0.234375  , 0.23828125, 0.2421875 , 0.24609375, 0.25      ,\n",
              "        0.25390625, 0.2578125 , 0.26171875, 0.265625  , 0.26953125,\n",
              "        0.2734375 , 0.27734375, 0.28125   , 0.28515625, 0.2890625 ,\n",
              "        0.29296875, 0.296875  , 0.30078125, 0.3046875 , 0.30859375,\n",
              "        0.3125    , 0.31640625, 0.3203125 , 0.32421875, 0.328125  ,\n",
              "        0.33203125, 0.3359375 , 0.33984375, 0.34375   , 0.34765625,\n",
              "        0.3515625 , 0.35546875, 0.359375  , 0.36328125, 0.3671875 ,\n",
              "        0.37109375, 0.375     , 0.37890625, 0.3828125 , 0.38671875,\n",
              "        0.390625  , 0.39453125, 0.3984375 , 0.40234375, 0.40625   ,\n",
              "        0.41015625, 0.4140625 , 0.41796875, 0.421875  , 0.42578125,\n",
              "        0.4296875 , 0.43359375, 0.4375    , 0.44140625, 0.4453125 ,\n",
              "        0.44921875, 0.453125  , 0.45703125, 0.4609375 , 0.46484375,\n",
              "        0.46875   , 0.47265625, 0.4765625 , 0.48046875, 0.484375  ,\n",
              "        0.48828125, 0.4921875 , 0.49609375, 0.5       , 0.50390625,\n",
              "        0.5078125 , 0.51171875, 0.515625  , 0.51953125, 0.5234375 ,\n",
              "        0.52734375, 0.53125   , 0.53515625, 0.5390625 , 0.54296875,\n",
              "        0.546875  , 0.55078125, 0.5546875 , 0.55859375, 0.5625    ,\n",
              "        0.56640625, 0.5703125 , 0.57421875, 0.578125  , 0.58203125,\n",
              "        0.5859375 , 0.58984375, 0.59375   , 0.59765625, 0.6015625 ,\n",
              "        0.60546875, 0.609375  , 0.61328125, 0.6171875 , 0.62109375,\n",
              "        0.625     , 0.62890625, 0.6328125 , 0.63671875, 0.640625  ,\n",
              "        0.64453125, 0.6484375 , 0.65234375, 0.65625   , 0.66015625,\n",
              "        0.6640625 , 0.66796875, 0.671875  , 0.67578125, 0.6796875 ,\n",
              "        0.68359375, 0.6875    , 0.69140625, 0.6953125 , 0.69921875,\n",
              "        0.703125  , 0.70703125, 0.7109375 , 0.71484375, 0.71875   ,\n",
              "        0.72265625, 0.7265625 , 0.73046875, 0.734375  , 0.73828125,\n",
              "        0.7421875 , 0.74609375, 0.75      , 0.75390625, 0.7578125 ,\n",
              "        0.76171875, 0.765625  , 0.76953125, 0.7734375 , 0.77734375,\n",
              "        0.78125   , 0.78515625, 0.7890625 , 0.79296875, 0.796875  ,\n",
              "        0.80078125, 0.8046875 , 0.80859375, 0.8125    , 0.81640625,\n",
              "        0.8203125 , 0.82421875, 0.828125  , 0.83203125, 0.8359375 ,\n",
              "        0.83984375, 0.84375   , 0.84765625, 0.8515625 , 0.85546875,\n",
              "        0.859375  , 0.86328125, 0.8671875 , 0.87109375, 0.875     ,\n",
              "        0.87890625, 0.8828125 , 0.88671875, 0.890625  , 0.89453125,\n",
              "        0.8984375 , 0.90234375, 0.90625   , 0.91015625, 0.9140625 ,\n",
              "        0.91796875, 0.921875  , 0.92578125, 0.9296875 , 0.93359375,\n",
              "        0.9375    , 0.94140625, 0.9453125 , 0.94921875, 0.953125  ,\n",
              "        0.95703125, 0.9609375 , 0.96484375, 0.96875   , 0.97265625,\n",
              "        0.9765625 , 0.98046875, 0.984375  , 0.98828125, 0.9921875 ,\n",
              "        0.99609375, 1.        ], dtype=float32),\n",
              " <BarContainer object of 256 artists>)"
            ]
          },
          "metadata": {},
          "execution_count": 56
        },
        {
          "output_type": "display_data",
          "data": {
            "text/plain": [
              "<Figure size 432x288 with 1 Axes>"
            ],
            "image/png": "[encoded data removed]"
          },
          "metadata": {
            "needs_background": "light"
          }
        }
      ]
    },
    {
      "cell_type": "code",
      "source": [
        "# with openCV\n",
        "# import library\n",
        "import cv2\n",
        "\n",
        "# load an image in grayscale mode\n",
        "img = cv2.imread('/content/org_image.png',0)\n",
        "  \n",
        "# calculate frequency of pixels in range 0-255\n",
        "histg = cv2.calcHist([img],[0],None,[256],[0,256]) \n",
        "\n",
        "# show the plotting graph of an image\n",
        "plt.plot(histg)\n",
        "plt.show()"
      ],
      "metadata": {
        "colab": {
          "base_uri": "https://localhost:8080/",
          "height": 265
        },
        "id": "CxiTeVc_u47f",
        "outputId": "0bef6128-3e46-42fb-97f9-cb02d40357cb"
      },
      "execution_count": 57,
      "outputs": [
        {
          "output_type": "display_data",
          "data": {
            "text/plain": [
              "<Figure size 432x288 with 1 Axes>"
            ],
            "image/png": "[encoded data removed]"
          },
          "metadata": {
            "needs_background": "light"
          }
        }
      ]
    },
    {
      "cell_type": "markdown",
      "source": [
        "Work on the main image"
      ],
      "metadata": {
        "id": "alw2ZwCh53H9"
      }
    },
    {
      "cell_type": "code",
      "source": [
        "# load an image in grayscale mode\n",
        "img = cv2.imread('/content/org_image.png',0)"
      ],
      "metadata": {
        "id": "0SFwzpkZ22jc"
      },
      "execution_count": 58,
      "outputs": []
    },
    {
      "cell_type": "code",
      "source": [
        "#calculating histogram\n",
        "plt.hist(img.ravel(), bins=256, range=(40.0, 90.0), fc='k', ec='k')"
      ],
      "metadata": {
        "colab": {
          "base_uri": "https://localhost:8080/",
          "height": 1000
        },
        "id": "rZKA3ARF3Ut0",
        "outputId": "114de4bd-bf34-4816-aa2d-931c9db621d3"
      },
      "execution_count": 59,
      "outputs": [
        {
          "output_type": "execute_result",
          "data": {
            "text/plain": [
              "(array([0.0000e+00, 0.0000e+00, 0.0000e+00, 0.0000e+00, 0.0000e+00,\n",
              "        0.0000e+00, 0.0000e+00, 0.0000e+00, 0.0000e+00, 0.0000e+00,\n",
              "        0.0000e+00, 0.0000e+00, 0.0000e+00, 0.0000e+00, 0.0000e+00,\n",
              "        4.6000e+01, 0.0000e+00, 0.0000e+00, 0.0000e+00, 0.0000e+00,\n",
              "        0.0000e+00, 0.0000e+00, 0.0000e+00, 0.0000e+00, 0.0000e+00,\n",
              "        0.0000e+00, 0.0000e+00, 0.0000e+00, 0.0000e+00, 0.0000e+00,\n",
              "        1.0500e+02, 0.0000e+00, 0.0000e+00, 0.0000e+00, 0.0000e+00,\n",
              "        0.0000e+00, 0.0000e+00, 0.0000e+00, 0.0000e+00, 0.0000e+00,\n",
              "        0.0000e+00, 0.0000e+00, 0.0000e+00, 0.0000e+00, 0.0000e+00,\n",
              "        0.0000e+00, 0.0000e+00, 0.0000e+00, 0.0000e+00, 0.0000e+00,\n",
              "        0.0000e+00, 7.0000e+02, 0.0000e+00, 0.0000e+00, 0.0000e+00,\n",
              "        0.0000e+00, 0.0000e+00, 0.0000e+00, 0.0000e+00, 0.0000e+00,\n",
              "        0.0000e+00, 0.0000e+00, 0.0000e+00, 0.0000e+00, 0.0000e+00,\n",
              "        0.0000e+00, 1.9719e+04, 0.0000e+00, 0.0000e+00, 0.0000e+00,\n",
              "        0.0000e+00, 0.0000e+00, 0.0000e+00, 0.0000e+00, 0.0000e+00,\n",
              "        0.0000e+00, 0.0000e+00, 0.0000e+00, 0.0000e+00, 0.0000e+00,\n",
              "        0.0000e+00, 4.5880e+03, 0.0000e+00, 0.0000e+00, 0.0000e+00,\n",
              "        0.0000e+00, 0.0000e+00, 0.0000e+00, 0.0000e+00, 0.0000e+00,\n",
              "        0.0000e+00, 0.0000e+00, 0.0000e+00, 0.0000e+00, 0.0000e+00,\n",
              "        0.0000e+00, 0.0000e+00, 1.1100e+03, 0.0000e+00, 0.0000e+00,\n",
              "        0.0000e+00, 0.0000e+00, 0.0000e+00, 0.0000e+00, 0.0000e+00,\n",
              "        0.0000e+00, 0.0000e+00, 3.7287e+04, 0.0000e+00, 0.0000e+00,\n",
              "        0.0000e+00, 0.0000e+00, 0.0000e+00, 0.0000e+00, 0.0000e+00,\n",
              "        0.0000e+00, 0.0000e+00, 0.0000e+00, 0.0000e+00, 0.0000e+00,\n",
              "        0.0000e+00, 0.0000e+00, 1.3470e+04, 0.0000e+00, 0.0000e+00,\n",
              "        0.0000e+00, 0.0000e+00, 0.0000e+00, 0.0000e+00, 0.0000e+00,\n",
              "        0.0000e+00, 0.0000e+00, 0.0000e+00, 9.9800e+03, 0.0000e+00,\n",
              "        0.0000e+00, 0.0000e+00, 0.0000e+00, 0.0000e+00, 0.0000e+00,\n",
              "        0.0000e+00, 0.0000e+00, 0.0000e+00, 1.8720e+03, 0.0000e+00,\n",
              "        0.0000e+00, 0.0000e+00, 0.0000e+00, 0.0000e+00, 0.0000e+00,\n",
              "        0.0000e+00, 0.0000e+00, 0.0000e+00, 9.7100e+02, 0.0000e+00,\n",
              "        0.0000e+00, 0.0000e+00, 0.0000e+00, 0.0000e+00, 0.0000e+00,\n",
              "        0.0000e+00, 0.0000e+00, 0.0000e+00, 5.8400e+02, 0.0000e+00,\n",
              "        0.0000e+00, 0.0000e+00, 0.0000e+00, 0.0000e+00, 0.0000e+00,\n",
              "        0.0000e+00, 0.0000e+00, 0.0000e+00, 0.0000e+00, 2.5300e+02,\n",
              "        0.0000e+00, 0.0000e+00, 0.0000e+00, 0.0000e+00, 0.0000e+00,\n",
              "        0.0000e+00, 0.0000e+00, 0.0000e+00, 0.0000e+00, 2.8900e+02,\n",
              "        0.0000e+00, 0.0000e+00, 0.0000e+00, 0.0000e+00, 0.0000e+00,\n",
              "        0.0000e+00, 0.0000e+00, 0.0000e+00, 0.0000e+00, 1.1900e+02,\n",
              "        0.0000e+00, 0.0000e+00, 0.0000e+00, 0.0000e+00, 0.0000e+00,\n",
              "        0.0000e+00, 0.0000e+00, 0.0000e+00, 0.0000e+00, 1.3100e+02,\n",
              "        0.0000e+00, 0.0000e+00, 0.0000e+00, 0.0000e+00, 0.0000e+00,\n",
              "        0.0000e+00, 0.0000e+00, 0.0000e+00, 0.0000e+00, 0.0000e+00,\n",
              "        4.6000e+01, 0.0000e+00, 0.0000e+00, 0.0000e+00, 0.0000e+00,\n",
              "        0.0000e+00, 0.0000e+00, 0.0000e+00, 0.0000e+00, 0.0000e+00,\n",
              "        4.5000e+01, 0.0000e+00, 0.0000e+00, 0.0000e+00, 0.0000e+00,\n",
              "        6.1000e+01, 0.0000e+00, 0.0000e+00, 0.0000e+00, 0.0000e+00,\n",
              "        0.0000e+00, 0.0000e+00, 0.0000e+00, 0.0000e+00, 0.0000e+00,\n",
              "        2.6000e+01, 0.0000e+00, 0.0000e+00, 0.0000e+00, 0.0000e+00,\n",
              "        0.0000e+00, 0.0000e+00, 0.0000e+00, 0.0000e+00, 0.0000e+00,\n",
              "        2.0000e+01, 0.0000e+00, 0.0000e+00, 0.0000e+00, 0.0000e+00,\n",
              "        1.2000e+01]),\n",
              " array([40.       , 40.1953125, 40.390625 , 40.5859375, 40.78125  ,\n",
              "        40.9765625, 41.171875 , 41.3671875, 41.5625   , 41.7578125,\n",
              "        41.953125 , 42.1484375, 42.34375  , 42.5390625, 42.734375 ,\n",
              "        42.9296875, 43.125    , 43.3203125, 43.515625 , 43.7109375,\n",
              "        43.90625  , 44.1015625, 44.296875 , 44.4921875, 44.6875   ,\n",
              "        44.8828125, 45.078125 , 45.2734375, 45.46875  , 45.6640625,\n",
              "        45.859375 , 46.0546875, 46.25     , 46.4453125, 46.640625 ,\n",
              "        46.8359375, 47.03125  , 47.2265625, 47.421875 , 47.6171875,\n",
              "        47.8125   , 48.0078125, 48.203125 , 48.3984375, 48.59375  ,\n",
              "        48.7890625, 48.984375 , 49.1796875, 49.375    , 49.5703125,\n",
              "        49.765625 , 49.9609375, 50.15625  , 50.3515625, 50.546875 ,\n",
              "        50.7421875, 50.9375   , 51.1328125, 51.328125 , 51.5234375,\n",
              "        51.71875  , 51.9140625, 52.109375 , 52.3046875, 52.5      ,\n",
              "        52.6953125, 52.890625 , 53.0859375, 53.28125  , 53.4765625,\n",
              "        53.671875 , 53.8671875, 54.0625   , 54.2578125, 54.453125 ,\n",
              "        54.6484375, 54.84375  , 55.0390625, 55.234375 , 55.4296875,\n",
              "        55.625    , 55.8203125, 56.015625 , 56.2109375, 56.40625  ,\n",
              "        56.6015625, 56.796875 , 56.9921875, 57.1875   , 57.3828125,\n",
              "        57.578125 , 57.7734375, 57.96875  , 58.1640625, 58.359375 ,\n",
              "        58.5546875, 58.75     , 58.9453125, 59.140625 , 59.3359375,\n",
              "        59.53125  , 59.7265625, 59.921875 , 60.1171875, 60.3125   ,\n",
              "        60.5078125, 60.703125 , 60.8984375, 61.09375  , 61.2890625,\n",
              "        61.484375 , 61.6796875, 61.875    , 62.0703125, 62.265625 ,\n",
              "        62.4609375, 62.65625  , 62.8515625, 63.046875 , 63.2421875,\n",
              "        63.4375   , 63.6328125, 63.828125 , 64.0234375, 64.21875  ,\n",
              "        64.4140625, 64.609375 , 64.8046875, 65.       , 65.1953125,\n",
              "        65.390625 , 65.5859375, 65.78125  , 65.9765625, 66.171875 ,\n",
              "        66.3671875, 66.5625   , 66.7578125, 66.953125 , 67.1484375,\n",
              "        67.34375  , 67.5390625, 67.734375 , 67.9296875, 68.125    ,\n",
              "        68.3203125, 68.515625 , 68.7109375, 68.90625  , 69.1015625,\n",
              "        69.296875 , 69.4921875, 69.6875   , 69.8828125, 70.078125 ,\n",
              "        70.2734375, 70.46875  , 70.6640625, 70.859375 , 71.0546875,\n",
              "        71.25     , 71.4453125, 71.640625 , 71.8359375, 72.03125  ,\n",
              "        72.2265625, 72.421875 , 72.6171875, 72.8125   , 73.0078125,\n",
              "        73.203125 , 73.3984375, 73.59375  , 73.7890625, 73.984375 ,\n",
              "        74.1796875, 74.375    , 74.5703125, 74.765625 , 74.9609375,\n",
              "        75.15625  , 75.3515625, 75.546875 , 75.7421875, 75.9375   ,\n",
              "        76.1328125, 76.328125 , 76.5234375, 76.71875  , 76.9140625,\n",
              "        77.109375 , 77.3046875, 77.5      , 77.6953125, 77.890625 ,\n",
              "        78.0859375, 78.28125  , 78.4765625, 78.671875 , 78.8671875,\n",
              "        79.0625   , 79.2578125, 79.453125 , 79.6484375, 79.84375  ,\n",
              "        80.0390625, 80.234375 , 80.4296875, 80.625    , 80.8203125,\n",
              "        81.015625 , 81.2109375, 81.40625  , 81.6015625, 81.796875 ,\n",
              "        81.9921875, 82.1875   , 82.3828125, 82.578125 , 82.7734375,\n",
              "        82.96875  , 83.1640625, 83.359375 , 83.5546875, 83.75     ,\n",
              "        83.9453125, 84.140625 , 84.3359375, 84.53125  , 84.7265625,\n",
              "        84.921875 , 85.1171875, 85.3125   , 85.5078125, 85.703125 ,\n",
              "        85.8984375, 86.09375  , 86.2890625, 86.484375 , 86.6796875,\n",
              "        86.875    , 87.0703125, 87.265625 , 87.4609375, 87.65625  ,\n",
              "        87.8515625, 88.046875 , 88.2421875, 88.4375   , 88.6328125,\n",
              "        88.828125 , 89.0234375, 89.21875  , 89.4140625, 89.609375 ,\n",
              "        89.8046875, 90.       ]),\n",
              " <BarContainer object of 256 artists>)"
            ]
          },
          "metadata": {},
          "execution_count": 59
        },
        {
          "output_type": "display_data",
          "data": {
            "text/plain": [
              "<Figure size 432x288 with 1 Axes>"
            ],
            "image/png": "[encoded data removed]"
          },
          "metadata": {
            "needs_background": "light"
          }
        }
      ]
    },
    {
      "cell_type": "code",
      "source": [
        "# segmentations\n",
        "\n",
        "seg_1 = (img <= 57)\n",
        "seg_2 = (img > 57) & (img <= 100)\n",
        "seg_3 = (img > 100) & (img <= 135)\n",
        "seg_4 = (img > 135) & (img<= 160)\n",
        "seg_5 = (img > 160)"
      ],
      "metadata": {
        "id": "bZOmeabE2tjk"
      },
      "execution_count": 60,
      "outputs": []
    },
    {
      "cell_type": "code",
      "source": [
        "img.shape"
      ],
      "metadata": {
        "colab": {
          "base_uri": "https://localhost:8080/"
        },
        "id": "-HvO1w9-4sXz",
        "outputId": "ad6fd758-25cd-438f-c442-27f6b654c64a"
      },
      "execution_count": 61,
      "outputs": [
        {
          "output_type": "execute_result",
          "data": {
            "text/plain": [
              "(599, 458)"
            ]
          },
          "metadata": {},
          "execution_count": 61
        }
      ]
    },
    {
      "cell_type": "code",
      "source": [
        "# creat the segmented image\n",
        "import numpy as np\n",
        "\n",
        "all_segments_tog = np.zeros((img.shape[0], img.shape[1], 3))"
      ],
      "metadata": {
        "id": "4lnD4fnW4d9l"
      },
      "execution_count": 62,
      "outputs": []
    },
    {
      "cell_type": "code",
      "source": [
        "# color the segments\n",
        "\n",
        "all_segments_tog[seg_1] = (1,0,0)\n",
        "all_segments_tog[seg_2] = (0,1,0)\n",
        "all_segments_tog[seg_3] = (0,0,1)\n",
        "all_segments_tog[seg_4] = (1,1,0)\n",
        "all_segments_tog[seg_5] = (0,1,1)"
      ],
      "metadata": {
        "id": "vWzs4zu847Ab"
      },
      "execution_count": 63,
      "outputs": []
    },
    {
      "cell_type": "code",
      "source": [
        "plt.imshow(all_segments_tog)"
      ],
      "metadata": {
        "colab": {
          "base_uri": "https://localhost:8080/",
          "height": 286
        },
        "id": "4fraW1OZ5X9D",
        "outputId": "9aabab7e-f0f9-4db5-d6bc-d5a004dd7b44"
      },
      "execution_count": 64,
      "outputs": [
        {
          "output_type": "execute_result",
          "data": {
            "text/plain": [
              "<matplotlib.image.AxesImage at 0x7f57d3f73e20>"
            ]
          },
          "metadata": {},
          "execution_count": 64
        },
        {
          "output_type": "display_data",
          "data": {
            "text/plain": [
              "<Figure size 432x288 with 1 Axes>"
            ],
            "image/png": "[encoded data removed]"
          },
          "metadata": {
            "needs_background": "light"
          }
        }
      ]
    },
    {
      "cell_type": "markdown",
      "source": [
        "The segmentation is not neat because the selection of threshold is not perfect."
      ],
      "metadata": {
        "id": "bANiIzqJ-fpy"
      }
    }
  ]
}