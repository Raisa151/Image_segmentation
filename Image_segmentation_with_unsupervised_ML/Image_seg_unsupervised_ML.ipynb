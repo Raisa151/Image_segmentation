{
  "nbformat": 4,
  "nbformat_minor": 0,
  "metadata": {
    "colab": {
      "provenance": []
    },
    "kernelspec": {
      "name": "python3",
      "display_name": "Python 3"
    },
    "language_info": {
      "name": "python"
    }
  },
  "cells": [
    {
      "cell_type": "code",
      "execution_count": 1,
      "metadata": {
        "id": "aRz65WCOTFOk"
      },
      "outputs": [],
      "source": [
        "# import dependencies\n",
        "\n",
        "import numpy as np \n",
        "import cv2"
      ]
    },
    {
      "cell_type": "code",
      "source": [
        "# upload image file\n",
        "\n",
        "from google.colab import files\n",
        "files.upload()"
      ],
      "metadata": {
        "id": "g3gs8P6FkpDO"
      },
      "execution_count": null,
      "outputs": []
    },
    {
      "cell_type": "code",
      "source": [
        "# read image file\n",
        "\n",
        "img = cv2.imread('/content/org_image.png')"
      ],
      "metadata": {
        "id": "VKQubTabkzyt"
      },
      "execution_count": 3,
      "outputs": []
    },
    {
      "cell_type": "code",
      "source": [
        "# check the shape\n",
        "\n",
        "img.shape"
      ],
      "metadata": {
        "colab": {
          "base_uri": "https://localhost:8080/"
        },
        "id": "pdlIELpzlJvZ",
        "outputId": "72092fac-99d3-42ef-df9a-1507a92a5d7e"
      },
      "execution_count": 4,
      "outputs": [
        {
          "output_type": "execute_result",
          "data": {
            "text/plain": [
              "(599, 458, 3)"
            ]
          },
          "metadata": {},
          "execution_count": 4
        }
      ]
    },
    {
      "cell_type": "code",
      "source": [
        "# reshape the image\n",
        "\n",
        "img2 = img.reshape((-1,3))"
      ],
      "metadata": {
        "id": "cU_sW6qylTfk"
      },
      "execution_count": 5,
      "outputs": []
    },
    {
      "cell_type": "code",
      "source": [
        "img2.shape"
      ],
      "metadata": {
        "colab": {
          "base_uri": "https://localhost:8080/"
        },
        "id": "9rYPmz_PlfY8",
        "outputId": "ea990a8e-a991-4c3e-cf95-ac31033fe8b3"
      },
      "execution_count": 6,
      "outputs": [
        {
          "output_type": "execute_result",
          "data": {
            "text/plain": [
              "(274342, 3)"
            ]
          },
          "metadata": {},
          "execution_count": 6
        }
      ]
    },
    {
      "cell_type": "markdown",
      "source": [
        "## k-means clustering"
      ],
      "metadata": {
        "id": "6lODyBHjqDH1"
      }
    },
    {
      "cell_type": "code",
      "source": [
        "# documentation link : https://docs.opencv.org/3.4/d1/d5c/tutorial_py_kmeans_opencv.html\n",
        "# change the data type\n",
        "\n",
        "X = np.float32(img2)"
      ],
      "metadata": {
        "id": "vbbBzxvMljXl"
      },
      "execution_count": 7,
      "outputs": []
    },
    {
      "cell_type": "code",
      "source": [
        "# define criteria\n",
        "criteria = (cv2.TERM_CRITERIA_EPS + cv2.TERM_CRITERIA_MAX_ITER, 10, 1.0)\n",
        "\n",
        "# number of clusters (k)\n",
        "k = 6\n",
        "\n",
        "# apply kmeans()\n",
        "ret,label,center = cv2.kmeans(X,k,None,criteria,10,cv2.KMEANS_RANDOM_CENTERS) # attempts = 10 "
      ],
      "metadata": {
        "id": "H_RX6Xq1nBf0"
      },
      "execution_count": 8,
      "outputs": []
    },
    {
      "cell_type": "code",
      "source": [
        "# convert back into uint8, and make original image\n",
        "\n",
        "center = np.uint8(center)\n",
        "reconstracted_img = center[label.flatten()]\n",
        "reconstracted_img_2 = reconstracted_img.reshape((img.shape))"
      ],
      "metadata": {
        "id": "Uj9Q5Y4WnqPF"
      },
      "execution_count": 9,
      "outputs": []
    },
    {
      "cell_type": "code",
      "source": [
        "from google.colab.patches import cv2_imshow\n",
        "\n",
        "cv2_imshow(reconstracted_img_2)"
      ],
      "metadata": {
        "colab": {
          "base_uri": "https://localhost:8080/",
          "height": 616
        },
        "id": "31woTeFXn4U1",
        "outputId": "79c13d91-2f79-470d-8cb1-d24286377b21"
      },
      "execution_count": 10,
      "outputs": [
        {
          "output_type": "display_data",
          "data": {
            "text/plain": [
              "<PIL.Image.Image image mode=RGB size=458x599 at 0x7FDD4ABAEB50>"
            ],
            "image/png": "[encoded data removed]"
          },
          "metadata": {}
        }
      ]
    },
    {
      "cell_type": "code",
      "source": [
        "cv2.imwrite(\"segmented_k_mean.jpg\", reconstracted_img_2)"
      ],
      "metadata": {
        "colab": {
          "base_uri": "https://localhost:8080/"
        },
        "id": "jwtB6AZfpmd4",
        "outputId": "d18b0b33-29ad-4d35-b3af-d3d4c87a9194"
      },
      "execution_count": 11,
      "outputs": [
        {
          "output_type": "execute_result",
          "data": {
            "text/plain": [
              "True"
            ]
          },
          "metadata": {},
          "execution_count": 11
        }
      ]
    },
    {
      "cell_type": "code",
      "source": [
        "print(center)"
      ],
      "metadata": {
        "colab": {
          "base_uri": "https://localhost:8080/"
        },
        "id": "2H4UI8zzpbn9",
        "outputId": "dd773271-890e-4e06-9ca0-82a9e050c837"
      },
      "execution_count": 12,
      "outputs": [
        {
          "output_type": "stream",
          "name": "stdout",
          "text": [
            "[[ 88 106 173]\n",
            " [ 64  60  27]\n",
            " [178 192 219]\n",
            " [ 82  67  44]\n",
            " [168 152  98]\n",
            " [ 56 129 182]]\n"
          ]
        }
      ]
    },
    {
      "cell_type": "markdown",
      "source": [
        "## Gaussian Mixture Model (GMM)"
      ],
      "metadata": {
        "id": "x-KB7dzKxgAD"
      }
    },
    {
      "cell_type": "code",
      "source": [
        "# import dependencies\n",
        "\n",
        "from sklearn.mixture import GaussianMixture as GMM"
      ],
      "metadata": {
        "id": "myI0LFccxv5O"
      },
      "execution_count": 13,
      "outputs": []
    },
    {
      "cell_type": "code",
      "source": [
        "# define an instance and fit the model\n",
        "\n",
        "gmm_model = GMM(n_components = 6, covariance_type = 'tied').fit(img2)"
      ],
      "metadata": {
        "id": "OkjpU8Ftx_pK"
      },
      "execution_count": 14,
      "outputs": []
    },
    {
      "cell_type": "code",
      "source": [
        "# make prediction\n",
        "\n",
        "prediction = gmm_model.predict(img2)"
      ],
      "metadata": {
        "id": "rQTZk4SPyjq5"
      },
      "execution_count": 15,
      "outputs": []
    },
    {
      "cell_type": "code",
      "source": [
        "prediction[:100]"
      ],
      "metadata": {
        "colab": {
          "base_uri": "https://localhost:8080/"
        },
        "id": "xY4qr_LQ0HGw",
        "outputId": "edc7632f-b3d2-4933-a75d-225818bf020f"
      },
      "execution_count": 16,
      "outputs": [
        {
          "output_type": "execute_result",
          "data": {
            "text/plain": [
              "array([0, 0, 0, 0, 0, 0, 0, 0, 0, 0, 0, 0, 0, 0, 0, 0, 0, 0, 0, 0, 0, 0,\n",
              "       0, 0, 0, 0, 0, 0, 0, 0, 0, 0, 0, 0, 0, 0, 0, 0, 0, 0, 0, 0, 0, 0,\n",
              "       0, 0, 0, 0, 0, 0, 0, 0, 0, 0, 0, 0, 0, 0, 0, 0, 0, 0, 0, 0, 0, 0,\n",
              "       0, 0, 0, 0, 0, 0, 0, 0, 0, 0, 0, 0, 0, 0, 0, 0, 0, 0, 0, 0, 0, 0,\n",
              "       0, 0, 0, 0, 0, 0, 0, 0, 0, 0, 0, 0])"
            ]
          },
          "metadata": {},
          "execution_count": 16
        }
      ]
    },
    {
      "cell_type": "code",
      "source": [
        "# reconstract the image\n",
        "prediction_ = prediction*12  # to make the image visible\n",
        "reconstracted_img_gmm = prediction_.reshape(img.shape[0], img.shape[1])"
      ],
      "metadata": {
        "id": "Yf9zg5A4zxfc"
      },
      "execution_count": 17,
      "outputs": []
    },
    {
      "cell_type": "code",
      "source": [
        "# save new file\n",
        "cv2.imwrite(\"segmented_k_gmm.jpg\", reconstracted_img_gmm)"
      ],
      "metadata": {
        "colab": {
          "base_uri": "https://localhost:8080/"
        },
        "id": "wZDVhatI05ED",
        "outputId": "c9eaa188-a4c8-432b-ecd0-718442e1b5f9"
      },
      "execution_count": 18,
      "outputs": [
        {
          "output_type": "execute_result",
          "data": {
            "text/plain": [
              "True"
            ]
          },
          "metadata": {},
          "execution_count": 18
        }
      ]
    },
    {
      "cell_type": "code",
      "source": [
        "from google.colab.patches import cv2_imshow\n",
        "\n",
        "cv2_imshow(reconstracted_img_gmm)"
      ],
      "metadata": {
        "colab": {
          "base_uri": "https://localhost:8080/",
          "height": 616
        },
        "id": "DPTR2gC75_1N",
        "outputId": "1be341d6-f143-4387-baed-e4c05783da80"
      },
      "execution_count": 19,
      "outputs": [
        {
          "output_type": "display_data",
          "data": {
            "text/plain": [
              "<PIL.Image.Image image mode=L size=458x599 at 0x7FDD40F01640>"
            ],
            "image/png": "[encoded data removed]"
          },
          "metadata": {}
        }
      ]
    },
    {
      "cell_type": "markdown",
      "source": [
        "## Pick optimal number with BIC/AIC"
      ],
      "metadata": {
        "id": "Rm-I9rfV6a9G"
      }
    },
    {
      "cell_type": "code",
      "source": [
        "# calculate BIC for GMM model\n",
        "\n",
        "n = 2\n",
        "gmm_model = GMM(n, covariance_type='tied').fit(img2)\n",
        "\n",
        "bic_values = gmm_model.bic(img2)\n",
        "print(bic_values)"
      ],
      "metadata": {
        "colab": {
          "base_uri": "https://localhost:8080/"
        },
        "id": "B6V0IJ2d6hzx",
        "outputId": "77f72a9c-c868-4e29-e464-a582d0c6b74e"
      },
      "execution_count": 20,
      "outputs": [
        {
          "output_type": "stream",
          "name": "stdout",
          "text": [
            "7223393.509782241\n"
          ]
        }
      ]
    },
    {
      "cell_type": "code",
      "source": [
        "# iterate value of n from 1 to 15\n",
        "\n",
        "n_components = np.arange(1,15)\n",
        "\n",
        "gmm_models = [GMM(n, covariance_type='tied').fit(img2) for n in n_components]"
      ],
      "metadata": {
        "id": "9t8epo7a7G1Q"
      },
      "execution_count": 21,
      "outputs": []
    },
    {
      "cell_type": "code",
      "source": [
        "# plot BIC value for every value of n\n",
        "\n",
        "from matplotlib import pyplot as plt\n",
        "plt.plot(n_components, [m.bic(img2) for m in gmm_models], label='BIC')\n",
        "plt.xlabel('n_components')\n",
        "plt.ylabel('BIC_values')"
      ],
      "metadata": {
        "colab": {
          "base_uri": "https://localhost:8080/",
          "height": 308
        },
        "id": "X7IoDOAl7Zyi",
        "outputId": "8ffb3243-00ba-4489-d0ec-5590afcbdccf"
      },
      "execution_count": 22,
      "outputs": [
        {
          "output_type": "execute_result",
          "data": {
            "text/plain": [
              "Text(0, 0.5, 'BIC_values')"
            ]
          },
          "metadata": {},
          "execution_count": 22
        },
        {
          "output_type": "display_data",
          "data": {
            "text/plain": [
              "<Figure size 432x288 with 1 Axes>"
            ],
            "image/png": "[encoded data removed]"
          },
          "metadata": {
            "needs_background": "light"
          }
        }
      ]
    },
    {
      "cell_type": "markdown",
      "source": [
        "after n=6 the graph is almost asymptotic. so n= 6 is the correct value."
      ],
      "metadata": {
        "id": "tD-av2f68LC3"
      }
    },
    {
      "cell_type": "code",
      "source": [
        "# plot AIC\n",
        "\n",
        "plt.plot(n_components, [m.aic(img2) for m in gmm_models], label='AIC')\n",
        "plt.xlabel('n_components')\n",
        "plt.ylabel('AIC_values')"
      ],
      "metadata": {
        "colab": {
          "base_uri": "https://localhost:8080/",
          "height": 308
        },
        "id": "szCCnFLA9PNJ",
        "outputId": "203352de-4307-429a-d10e-0f299a230fc3"
      },
      "execution_count": 23,
      "outputs": [
        {
          "output_type": "execute_result",
          "data": {
            "text/plain": [
              "Text(0, 0.5, 'AIC_values')"
            ]
          },
          "metadata": {},
          "execution_count": 23
        },
        {
          "output_type": "display_data",
          "data": {
            "text/plain": [
              "<Figure size 432x288 with 1 Axes>"
            ],
            "image/png": "[encoded data removed]"
          },
          "metadata": {
            "needs_background": "light"
          }
        }
      ]
    }
  ]
}